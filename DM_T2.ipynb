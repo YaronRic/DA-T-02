{
 "cells": [
  {
   "cell_type": "code",
   "execution_count": 1,
   "id": "663521b3-fd58-4c01-99d2-2c36f709d216",
   "metadata": {},
   "outputs": [],
   "source": [
    "import pandas as pd\n",
    "import numpy as np\n",
    "import seaborn as sns\n",
    "import matplotlib.pyplot as plt \n",
    "import datetime as dt\n",
    "import re\n",
    "\n",
    "from datetime import timedelta"
   ]
  },
  {
   "cell_type": "code",
   "execution_count": 2,
   "id": "7a3a776a-f8ad-4509-a119-223cd928549a",
   "metadata": {},
   "outputs": [
    {
     "name": "stderr",
     "output_type": "stream",
     "text": [
      "c:\\Users\\yaron\\AppData\\Local\\Programs\\Python\\Python36\\lib\\site-packages\\IPython\\core\\interactiveshell.py:3072: DtypeWarning: Columns (6) have mixed types.Specify dtype option on import or set low_memory=False.\n",
      "  interactivity=interactivity, compiler=compiler, result=result)\n"
     ]
    }
   ],
   "source": [
    "data = pd.read_csv('matala2_cosmetics_2019-Nov.csv').copy()"
   ]
  },
  {
   "cell_type": "markdown",
   "id": "82d47c66-8eed-4d29-9861-3a4c9b6e8d85",
   "metadata": {},
   "source": [
    "***\n",
    "# Q1"
   ]
  },
  {
   "cell_type": "code",
   "execution_count": 3,
   "id": "eff4c2df-dd55-4f78-af3d-00c6d41f7770",
   "metadata": {},
   "outputs": [],
   "source": [
    "data['event_time'] = pd.to_datetime(data.event_time)   # convert col to full time format\n",
    "data = data.sort_values(['user_id', 'event_time'])   # sort df by acsending\n",
    "data['duration_to_next_event'] = abs(data['event_time'].diff(periods = -1).dt.total_seconds()) # calculate seconds difference between current and prev visit\n",
    "data['duration_to_next_event'] = data['duration_to_next_event'].fillna(0)"
   ]
  },
  {
   "cell_type": "code",
   "execution_count": 4,
   "id": "4d6110ff",
   "metadata": {},
   "outputs": [
    {
     "data": {
      "text/html": [
       "<div>\n",
       "<style scoped>\n",
       "    .dataframe tbody tr th:only-of-type {\n",
       "        vertical-align: middle;\n",
       "    }\n",
       "\n",
       "    .dataframe tbody tr th {\n",
       "        vertical-align: top;\n",
       "    }\n",
       "\n",
       "    .dataframe thead th {\n",
       "        text-align: right;\n",
       "    }\n",
       "</style>\n",
       "<table border=\"1\" class=\"dataframe\">\n",
       "  <thead>\n",
       "    <tr style=\"text-align: right;\">\n",
       "      <th></th>\n",
       "      <th>event_time</th>\n",
       "      <th>event_type</th>\n",
       "      <th>product_id</th>\n",
       "      <th>category_id</th>\n",
       "      <th>category_code</th>\n",
       "      <th>brand</th>\n",
       "      <th>price</th>\n",
       "      <th>user_id</th>\n",
       "      <th>user_session</th>\n",
       "      <th>duration_to_next_event</th>\n",
       "    </tr>\n",
       "  </thead>\n",
       "  <tbody>\n",
       "    <tr>\n",
       "      <th>437209</th>\n",
       "      <td>2019-11-04 15:28:57+00:00</td>\n",
       "      <td>view</td>\n",
       "      <td>5240</td>\n",
       "      <td>1487580009202712597</td>\n",
       "      <td>NaN</td>\n",
       "      <td>runail</td>\n",
       "      <td>4.05</td>\n",
       "      <td>1120748</td>\n",
       "      <td>d0484d94-7ac1-44e8-a310-2360da11ad9d</td>\n",
       "      <td>1276032.0</td>\n",
       "    </tr>\n",
       "  </tbody>\n",
       "</table>\n",
       "</div>"
      ],
      "text/plain": [
       "                      event_time event_type  product_id          category_id  \\\n",
       "437209 2019-11-04 15:28:57+00:00       view        5240  1487580009202712597   \n",
       "\n",
       "       category_code   brand price  user_id  \\\n",
       "437209           NaN  runail  4.05  1120748   \n",
       "\n",
       "                                user_session  duration_to_next_event  \n",
       "437209  d0484d94-7ac1-44e8-a310-2360da11ad9d               1276032.0  "
      ]
     },
     "execution_count": 4,
     "metadata": {},
     "output_type": "execute_result"
    }
   ],
   "source": [
    "data.head(1)"
   ]
  },
  {
   "cell_type": "markdown",
   "id": "4fca5f23-fe79-4d46-8ccc-ac1f3ffb5aa3",
   "metadata": {},
   "source": [
    "***\n",
    "# Q2"
   ]
  },
  {
   "cell_type": "code",
   "execution_count": 5,
   "id": "4e5c0033",
   "metadata": {},
   "outputs": [],
   "source": [
    "# calc days diff between visits\n",
    "data = data.sort_values(['user_id', 'event_time'])\n",
    "data['days_diff'] = data.groupby('user_id')['event_time'].diff().dt.days\n",
    "col = data['days_diff'] > 5\n",
    "\n",
    "data['funnel_number'] = col.groupby(data['user_id']).cumsum() + 1\n",
    "data['funnel_number'] = data['funnel_number'].fillna(0)\n",
    "\n",
    "data = data.drop(columns=['days_diff'])"
   ]
  },
  {
   "cell_type": "code",
   "execution_count": 6,
   "id": "d3b9cd45",
   "metadata": {},
   "outputs": [
    {
     "data": {
      "text/plain": [
       "array([1, 2, 3, 4, 5], dtype=int64)"
      ]
     },
     "execution_count": 6,
     "metadata": {},
     "output_type": "execute_result"
    }
   ],
   "source": [
    "data['funnel_number'].unique()"
   ]
  },
  {
   "cell_type": "code",
   "execution_count": 7,
   "id": "30bdf5f9",
   "metadata": {},
   "outputs": [
    {
     "data": {
      "text/plain": [
       "array(['d0484d94-7ac1-44e8-a310-2360da11ad9d',\n",
       "       'b16644a2-44db-4650-8156-f6f03782d432',\n",
       "       '6873a205-d9f5-4d51-b3eb-b4bfddfe907c', ...,\n",
       "       'a06e9a89-55ff-4c3a-abd6-aa4fdf808058',\n",
       "       '878af093-7570-48ae-966c-d50ce61e390c',\n",
       "       'e9fa2c3e-8c9e-448c-880a-21ca57c18b3b'], dtype=object)"
      ]
     },
     "execution_count": 7,
     "metadata": {},
     "output_type": "execute_result"
    }
   ],
   "source": [
    "data.user_session.unique()"
   ]
  },
  {
   "cell_type": "markdown",
   "id": "d48535e3-c66f-47e1-8bc6-0a75f4dc8815",
   "metadata": {},
   "source": [
    "***\n",
    "# Q3"
   ]
  },
  {
   "cell_type": "code",
   "execution_count": 8,
   "id": "c11817dd",
   "metadata": {},
   "outputs": [],
   "source": [
    "data = data.sort_values(['user_id', 'funnel_number', 'event_time'])\n",
    "data['temp'] = data.groupby(['user_id', 'funnel_number', 'user_session'])['user_session'].shift().ne(0).astype(int)"
   ]
  },
  {
   "cell_type": "code",
   "execution_count": 9,
   "id": "41302ae0-a825-4662-ad2c-2fd8f7cd723b",
   "metadata": {},
   "outputs": [],
   "source": [
    "data['index_in_funnel'] = data.groupby(['user_id' , 'funnel_number'])['temp'].cumsum()\n",
    "data = data.drop(columns=['temp'])"
   ]
  },
  {
   "cell_type": "markdown",
   "id": "aa9a3656-559c-48e2-b461-90ef3700e936",
   "metadata": {},
   "source": [
    "***\n",
    "# Q4"
   ]
  },
  {
   "cell_type": "code",
   "execution_count": 10,
   "id": "cd17b062",
   "metadata": {},
   "outputs": [],
   "source": [
    "fix = re.compile(r'\\d+\\.?\\d*')\n",
    "data['price'] = data['price'].astype(str)\n",
    "data['price'] = data['price'].apply(lambda x: float(fix.findall(x)[0]))\n",
    "#print(data['price'].dtype)"
   ]
  },
  {
   "cell_type": "markdown",
   "id": "32a0c7d3-33fb-4ced-b287-875f7f1de883",
   "metadata": {},
   "source": [
    "***\n",
    "# Q5"
   ]
  },
  {
   "cell_type": "code",
   "execution_count": 11,
   "id": "de5a05d1-13c1-4ff9-95a1-a705e8109129",
   "metadata": {},
   "outputs": [
    {
     "data": {
      "image/png": "[encoded data removed]",
      "text/plain": [
       "<Figure size 1080x432 with 1 Axes>"
      ]
     },
     "metadata": {},
     "output_type": "display_data"
    }
   ],
   "source": [
    "sns.set_style('darkgrid')\n",
    "plt.figure(figsize=(15, 6))\n",
    "\n",
    "ax = sns.countplot(data = data, x = 'event_type')\n",
    "plt.title('Number of events of every type')\n",
    "plt.xlabel('Event_type', fontsize = 15)\n",
    "plt.ylabel('Number of events', fontsize = 15)\n",
    "plt.xticks(fontsize = 15)\n",
    "plt.yticks(fontsize = 12)\n",
    "\n",
    "for p in ax.patches:\n",
    "    ax.annotate(f'{p.get_height():.0f}', (p.get_x() + p.get_width()/2, p.get_height() + 0.5), ha = 'center', fontsize = 12)\n",
    "    \n",
    "plt.show()"
   ]
  },
  {
   "cell_type": "markdown",
   "id": "686e3c78-0e04-47ac-9837-5b33be05349d",
   "metadata": {},
   "source": [
    "***\n",
    "# Q6"
   ]
  },
  {
   "cell_type": "code",
   "execution_count": 12,
   "id": "ccb07382-7c60-4da6-bd65-11c3491bdf7e",
   "metadata": {},
   "outputs": [],
   "source": [
    "# a, b, c, d\n",
    "data_abcd = data[['user_id','user_session','funnel_number','index_in_funnel']].copy()"
   ]
  },
  {
   "cell_type": "code",
   "execution_count": 13,
   "id": "6df5bbdb",
   "metadata": {},
   "outputs": [],
   "source": [
    "# e, f\n",
    "data_abcd['total_events'] = data.groupby('user_session')[['event_type']].transform('count')\n",
    "data_abcd['visit_duration'] = data.groupby(['funnel_number', 'user_session'])[[\"duration_to_next_event\"]].transform('sum')"
   ]
  },
  {
   "cell_type": "code",
   "execution_count": 14,
   "id": "ac334436",
   "metadata": {},
   "outputs": [
    {
     "data": {
      "text/plain": [
       "array(['view', 'cart', 'remove_from_cart', 'purchase'], dtype=object)"
      ]
     },
     "execution_count": 14,
     "metadata": {},
     "output_type": "execute_result"
    }
   ],
   "source": [
    "data.event_type.unique()"
   ]
  },
  {
   "cell_type": "code",
   "execution_count": 15,
   "id": "aad0aa2e",
   "metadata": {},
   "outputs": [],
   "source": [
    "# g, h, i\n",
    "data_ghi = data.groupby(['user_id', 'user_session']).apply(\n",
    "    lambda x: pd.Series({\n",
    "        'list_of_viewed': list(x.loc[x['event_type'] == 'view', 'product_id']),\n",
    "        'list_of_added_to_cart': list(x.loc[x['event_type'] == 'cart', 'product_id']),\n",
    "        'list_of_purchased': list(x.loc[x['event_type'] == 'purchase', 'product_id'])\n",
    "    })\n",
    ").reset_index()"
   ]
  },
  {
   "cell_type": "code",
   "execution_count": 16,
   "id": "f5e884c4",
   "metadata": {},
   "outputs": [],
   "source": [
    "session_data = pd.merge(data_abcd, data_ghi , how = 'left', on = ['user_id', 'user_session'])"
   ]
  },
  {
   "cell_type": "code",
   "execution_count": 17,
   "id": "b1b02f93",
   "metadata": {},
   "outputs": [
    {
     "data": {
      "text/html": [
       "<div>\n",
       "<style scoped>\n",
       "    .dataframe tbody tr th:only-of-type {\n",
       "        vertical-align: middle;\n",
       "    }\n",
       "\n",
       "    .dataframe tbody tr th {\n",
       "        vertical-align: top;\n",
       "    }\n",
       "\n",
       "    .dataframe thead th {\n",
       "        text-align: right;\n",
       "    }\n",
       "</style>\n",
       "<table border=\"1\" class=\"dataframe\">\n",
       "  <thead>\n",
       "    <tr style=\"text-align: right;\">\n",
       "      <th></th>\n",
       "      <th>user_id</th>\n",
       "      <th>user_session</th>\n",
       "      <th>funnel_number</th>\n",
       "      <th>index_in_funnel</th>\n",
       "      <th>total_events</th>\n",
       "      <th>visit_duration</th>\n",
       "      <th>list_of_viewed</th>\n",
       "      <th>list_of_added_to_cart</th>\n",
       "      <th>list_of_purchased</th>\n",
       "    </tr>\n",
       "  </thead>\n",
       "  <tbody>\n",
       "    <tr>\n",
       "      <th>0</th>\n",
       "      <td>1120748</td>\n",
       "      <td>d0484d94-7ac1-44e8-a310-2360da11ad9d</td>\n",
       "      <td>1</td>\n",
       "      <td>1</td>\n",
       "      <td>1.0</td>\n",
       "      <td>1276032.0</td>\n",
       "      <td>[5240]</td>\n",
       "      <td>[]</td>\n",
       "      <td>[]</td>\n",
       "    </tr>\n",
       "    <tr>\n",
       "      <th>1</th>\n",
       "      <td>1458813</td>\n",
       "      <td>b16644a2-44db-4650-8156-f6f03782d432</td>\n",
       "      <td>1</td>\n",
       "      <td>1</td>\n",
       "      <td>1.0</td>\n",
       "      <td>4719.0</td>\n",
       "      <td>[5711145]</td>\n",
       "      <td>[]</td>\n",
       "      <td>[]</td>\n",
       "    </tr>\n",
       "    <tr>\n",
       "      <th>2</th>\n",
       "      <td>1458813</td>\n",
       "      <td>6873a205-d9f5-4d51-b3eb-b4bfddfe907c</td>\n",
       "      <td>1</td>\n",
       "      <td>2</td>\n",
       "      <td>1.0</td>\n",
       "      <td>88998.0</td>\n",
       "      <td>[5814066]</td>\n",
       "      <td>[]</td>\n",
       "      <td>[]</td>\n",
       "    </tr>\n",
       "    <tr>\n",
       "      <th>3</th>\n",
       "      <td>1458813</td>\n",
       "      <td>921ff98c-a419-4132-af94-ee26880334b0</td>\n",
       "      <td>1</td>\n",
       "      <td>3</td>\n",
       "      <td>28.0</td>\n",
       "      <td>65074.0</td>\n",
       "      <td>[5800358, 5800349, 5800349, 5800358, 5712576, ...</td>\n",
       "      <td>[]</td>\n",
       "      <td>[]</td>\n",
       "    </tr>\n",
       "    <tr>\n",
       "      <th>4</th>\n",
       "      <td>1458813</td>\n",
       "      <td>921ff98c-a419-4132-af94-ee26880334b0</td>\n",
       "      <td>1</td>\n",
       "      <td>4</td>\n",
       "      <td>28.0</td>\n",
       "      <td>65074.0</td>\n",
       "      <td>[5800358, 5800349, 5800349, 5800358, 5712576, ...</td>\n",
       "      <td>[]</td>\n",
       "      <td>[]</td>\n",
       "    </tr>\n",
       "  </tbody>\n",
       "</table>\n",
       "</div>"
      ],
      "text/plain": [
       "   user_id                          user_session  funnel_number  \\\n",
       "0  1120748  d0484d94-7ac1-44e8-a310-2360da11ad9d              1   \n",
       "1  1458813  b16644a2-44db-4650-8156-f6f03782d432              1   \n",
       "2  1458813  6873a205-d9f5-4d51-b3eb-b4bfddfe907c              1   \n",
       "3  1458813  921ff98c-a419-4132-af94-ee26880334b0              1   \n",
       "4  1458813  921ff98c-a419-4132-af94-ee26880334b0              1   \n",
       "\n",
       "   index_in_funnel  total_events  visit_duration  \\\n",
       "0                1           1.0       1276032.0   \n",
       "1                1           1.0          4719.0   \n",
       "2                2           1.0         88998.0   \n",
       "3                3          28.0         65074.0   \n",
       "4                4          28.0         65074.0   \n",
       "\n",
       "                                      list_of_viewed list_of_added_to_cart  \\\n",
       "0                                             [5240]                    []   \n",
       "1                                          [5711145]                    []   \n",
       "2                                          [5814066]                    []   \n",
       "3  [5800358, 5800349, 5800349, 5800358, 5712576, ...                    []   \n",
       "4  [5800358, 5800349, 5800349, 5800358, 5712576, ...                    []   \n",
       "\n",
       "  list_of_purchased  \n",
       "0                []  \n",
       "1                []  \n",
       "2                []  \n",
       "3                []  \n",
       "4                []  "
      ]
     },
     "execution_count": 17,
     "metadata": {},
     "output_type": "execute_result"
    }
   ],
   "source": [
    "session_data.head()"
   ]
  },
  {
   "cell_type": "code",
   "execution_count": null,
   "id": "e1340194",
   "metadata": {},
   "outputs": [],
   "source": []
  }
 ],
 "metadata": {
  "kernelspec": {
   "display_name": "Python 3",
   "language": "python",
   "name": "python3"
  },
  "language_info": {
   "codemirror_mode": {
    "name": "ipython",
    "version": 3
   },
   "file_extension": ".py",
   "mimetype": "text/x-python",
   "name": "python",
   "nbconvert_exporter": "python",
   "pygments_lexer": "ipython3",
   "version": "3.6.2"
  },
  "vscode": {
   "interpreter": {
    "hash": "42b9b939856d1172b043f12edfc028268b805917af44eb41f47f8e69e40d1aad"
   }
  }
 },
 "nbformat": 4,
 "nbformat_minor": 5
}
